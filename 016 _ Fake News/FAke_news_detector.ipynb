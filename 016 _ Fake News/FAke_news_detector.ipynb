{
 "cells": [
  {
   "cell_type": "code",
   "execution_count": 15,
   "id": "1c7d5686-6330-4d85-bb64-14befc7d1fd5",
   "metadata": {},
   "outputs": [
    {
     "data": {
      "text/html": [
       "<div>\n",
       "<style scoped>\n",
       "    .dataframe tbody tr th:only-of-type {\n",
       "        vertical-align: middle;\n",
       "    }\n",
       "\n",
       "    .dataframe tbody tr th {\n",
       "        vertical-align: top;\n",
       "    }\n",
       "\n",
       "    .dataframe thead th {\n",
       "        text-align: right;\n",
       "    }\n",
       "</style>\n",
       "<table border=\"1\" class=\"dataframe\">\n",
       "  <thead>\n",
       "    <tr style=\"text-align: right;\">\n",
       "      <th></th>\n",
       "      <th>id</th>\n",
       "      <th>title</th>\n",
       "      <th>author</th>\n",
       "      <th>text</th>\n",
       "      <th>label</th>\n",
       "    </tr>\n",
       "  </thead>\n",
       "  <tbody>\n",
       "    <tr>\n",
       "      <th>0</th>\n",
       "      <td>0</td>\n",
       "      <td>House Dem Aide: We Didn’t Even See Comey’s Let...</td>\n",
       "      <td>Darrell Lucus</td>\n",
       "      <td>House Dem Aide: We Didn’t Even See Comey’s Let...</td>\n",
       "      <td>1</td>\n",
       "    </tr>\n",
       "    <tr>\n",
       "      <th>1</th>\n",
       "      <td>1</td>\n",
       "      <td>FLYNN: Hillary Clinton, Big Woman on Campus - ...</td>\n",
       "      <td>Daniel J. Flynn</td>\n",
       "      <td>Ever get the feeling your life circles the rou...</td>\n",
       "      <td>0</td>\n",
       "    </tr>\n",
       "    <tr>\n",
       "      <th>2</th>\n",
       "      <td>2</td>\n",
       "      <td>Why the Truth Might Get You Fired</td>\n",
       "      <td>Consortiumnews.com</td>\n",
       "      <td>Why the Truth Might Get You Fired October 29, ...</td>\n",
       "      <td>1</td>\n",
       "    </tr>\n",
       "    <tr>\n",
       "      <th>3</th>\n",
       "      <td>3</td>\n",
       "      <td>15 Civilians Killed In Single US Airstrike Hav...</td>\n",
       "      <td>Jessica Purkiss</td>\n",
       "      <td>Videos 15 Civilians Killed In Single US Airstr...</td>\n",
       "      <td>1</td>\n",
       "    </tr>\n",
       "    <tr>\n",
       "      <th>4</th>\n",
       "      <td>4</td>\n",
       "      <td>Iranian woman jailed for fictional unpublished...</td>\n",
       "      <td>Howard Portnoy</td>\n",
       "      <td>Print \\nAn Iranian woman has been sentenced to...</td>\n",
       "      <td>1</td>\n",
       "    </tr>\n",
       "    <tr>\n",
       "      <th>...</th>\n",
       "      <td>...</td>\n",
       "      <td>...</td>\n",
       "      <td>...</td>\n",
       "      <td>...</td>\n",
       "      <td>...</td>\n",
       "    </tr>\n",
       "    <tr>\n",
       "      <th>20795</th>\n",
       "      <td>20795</td>\n",
       "      <td>Rapper T.I.: Trump a ’Poster Child For White S...</td>\n",
       "      <td>Jerome Hudson</td>\n",
       "      <td>Rapper T. I. unloaded on black celebrities who...</td>\n",
       "      <td>0</td>\n",
       "    </tr>\n",
       "    <tr>\n",
       "      <th>20796</th>\n",
       "      <td>20796</td>\n",
       "      <td>N.F.L. Playoffs: Schedule, Matchups and Odds -...</td>\n",
       "      <td>Benjamin Hoffman</td>\n",
       "      <td>When the Green Bay Packers lost to the Washing...</td>\n",
       "      <td>0</td>\n",
       "    </tr>\n",
       "    <tr>\n",
       "      <th>20797</th>\n",
       "      <td>20797</td>\n",
       "      <td>Macy’s Is Said to Receive Takeover Approach by...</td>\n",
       "      <td>Michael J. de la Merced and Rachel Abrams</td>\n",
       "      <td>The Macy’s of today grew from the union of sev...</td>\n",
       "      <td>0</td>\n",
       "    </tr>\n",
       "    <tr>\n",
       "      <th>20798</th>\n",
       "      <td>20798</td>\n",
       "      <td>NATO, Russia To Hold Parallel Exercises In Bal...</td>\n",
       "      <td>Alex Ansary</td>\n",
       "      <td>NATO, Russia To Hold Parallel Exercises In Bal...</td>\n",
       "      <td>1</td>\n",
       "    </tr>\n",
       "    <tr>\n",
       "      <th>20799</th>\n",
       "      <td>20799</td>\n",
       "      <td>What Keeps the F-35 Alive</td>\n",
       "      <td>David Swanson</td>\n",
       "      <td>David Swanson is an author, activist, journa...</td>\n",
       "      <td>1</td>\n",
       "    </tr>\n",
       "  </tbody>\n",
       "</table>\n",
       "<p>20800 rows × 5 columns</p>\n",
       "</div>"
      ],
      "text/plain": [
       "          id  ... label\n",
       "0          0  ...     1\n",
       "1          1  ...     0\n",
       "2          2  ...     1\n",
       "3          3  ...     1\n",
       "4          4  ...     1\n",
       "...      ...  ...   ...\n",
       "20795  20795  ...     0\n",
       "20796  20796  ...     0\n",
       "20797  20797  ...     0\n",
       "20798  20798  ...     1\n",
       "20799  20799  ...     1\n",
       "\n",
       "[20800 rows x 5 columns]"
      ]
     },
     "execution_count": 15,
     "metadata": {},
     "output_type": "execute_result"
    }
   ],
   "source": [
    "import pandas as pd\n",
    "\n",
    "\n",
    "df = pd.read_csv('train.csv')\n",
    "df"
   ]
  },
  {
   "cell_type": "code",
   "execution_count": 16,
   "id": "85478556-8a37-4dad-a8b6-a23e4204ba5a",
   "metadata": {},
   "outputs": [
    {
     "name": "stdout",
     "output_type": "stream",
     "text": [
      "<class 'pandas.core.frame.DataFrame'>\n",
      "RangeIndex: 20800 entries, 0 to 20799\n",
      "Data columns (total 5 columns):\n",
      " #   Column  Non-Null Count  Dtype \n",
      "---  ------  --------------  ----- \n",
      " 0   id      20800 non-null  int64 \n",
      " 1   title   20242 non-null  object\n",
      " 2   author  18843 non-null  object\n",
      " 3   text    20761 non-null  object\n",
      " 4   label   20800 non-null  int64 \n",
      "dtypes: int64(2), object(3)\n",
      "memory usage: 812.6+ KB\n"
     ]
    }
   ],
   "source": [
    "df.info()"
   ]
  },
  {
   "cell_type": "code",
   "execution_count": 17,
   "id": "5791c4de-0b2d-4102-ae51-8fc2a374fba1",
   "metadata": {},
   "outputs": [],
   "source": [
    "df.fillna('inavailable',inplace=True)"
   ]
  },
  {
   "cell_type": "code",
   "execution_count": 18,
   "id": "48c5e088-ae03-4e01-81e4-502d86a72575",
   "metadata": {},
   "outputs": [
    {
     "name": "stdout",
     "output_type": "stream",
     "text": [
      "<class 'pandas.core.frame.DataFrame'>\n",
      "RangeIndex: 20800 entries, 0 to 20799\n",
      "Data columns (total 5 columns):\n",
      " #   Column  Non-Null Count  Dtype \n",
      "---  ------  --------------  ----- \n",
      " 0   id      20800 non-null  int64 \n",
      " 1   title   20800 non-null  object\n",
      " 2   author  20800 non-null  object\n",
      " 3   text    20800 non-null  object\n",
      " 4   label   20800 non-null  int64 \n",
      "dtypes: int64(2), object(3)\n",
      "memory usage: 812.6+ KB\n"
     ]
    }
   ],
   "source": [
    "df.info()"
   ]
  },
  {
   "cell_type": "code",
   "execution_count": 19,
   "id": "4574911a-394e-4c45-9031-8124ada7698a",
   "metadata": {},
   "outputs": [],
   "source": [
    "df['comb'] = df['author']+\" \"+df['title']+\" \"+df['text']"
   ]
  },
  {
   "cell_type": "code",
   "execution_count": 20,
   "id": "a18a1c7f-bfb7-42d9-83ed-70731595eed4",
   "metadata": {},
   "outputs": [
    {
     "name": "stderr",
     "output_type": "stream",
     "text": [
      "[nltk_data] Downloading package stopwords to\n",
      "[nltk_data]     C:\\Users\\user\\AppData\\Roaming\\nltk_data...\n",
      "[nltk_data]   Package stopwords is already up-to-date!\n"
     ]
    }
   ],
   "source": [
    "import nltk\n",
    "nltk.download('stopwords')\n",
    "from nltk.corpus import stopwords\n",
    "from nltk.stem.porter import PorterStemmer \n",
    "import re \n",
    "import string"
   ]
  },
  {
   "cell_type": "code",
   "execution_count": 21,
   "id": "4b731b2d-249a-4324-8c51-977729b79780",
   "metadata": {},
   "outputs": [],
   "source": [
    "# Initialize objects that don't change once outside the function\n",
    "# This prevents them from being re-created every time the function is called.\n",
    "_stemer = PorterStemmer()\n",
    "_cached_stopwords = set(stopwords.words(\"english\"))\n",
    "\n",
    "def clean(text):\n",
    "    \"\"\"\n",
    "    Cleans a given text by:\n",
    "    1. Removing non-alphabetic characters.\n",
    "    2. Converting to lowercase.\n",
    "    3. Splitting into words.\n",
    "    4. Removing stopwords.\n",
    "    5. Applying Porter Stemming.\n",
    "    6. Joining words back into a string.\n",
    "    \"\"\"\n",
    "    # 1. Remove non-alphabetic characters and replace with a space\n",
    "    text = re.sub('[^a-zA-Z]', ' ', text)\n",
    "\n",
    "    # 2. Convert to lowercase\n",
    "    text = text.lower()\n",
    "\n",
    "    # 3. Split the text into words (tokenize)\n",
    "    # Using text.split() by default splits by any whitespace and handles multiple spaces\n",
    "    words = text.split()\n",
    "\n",
    "    # 4. Remove stopwords and apply stemming\n",
    "    # Using the pre-initialized stemer and stopwords set for efficiency\n",
    "    stemmed_words = [_stemer.stem(word) for word in words if word not in _cached_stopwords]\n",
    "\n",
    "    # 5. Join the processed words back into a single string\n",
    "    text = \" \".join(stemmed_words)\n",
    "\n",
    "    return text"
   ]
  },
  {
   "cell_type": "code",
   "execution_count": 23,
   "id": "97c65035-387c-4e43-b169-2ecc9cde5007",
   "metadata": {},
   "outputs": [],
   "source": [
    "# # !pip install swifter\n",
    "# import swifter\n",
    "\n",
    "# df['comb'] = df['comb'].swifter.apply(clean)\n",
    "\n",
    "# # df['comb'] = df['comb'].apply(lambda x : clean(x))"
   ]
  },
  {
   "cell_type": "code",
   "execution_count": null,
   "id": "911ab595-cb63-410f-8b32-c4e07025cd4b",
   "metadata": {},
   "outputs": [],
   "source": [
    "from multiprocessing import Pool, cpu_count\n",
    "\n",
    "def parallel_clean(series):\n",
    "    with Pool(cpu_count()) as p:\n",
    "        return p.map(clean, series)\n",
    "\n",
    "df['comb'] = parallel_clean(df['comb'].tolist())\n"
   ]
  },
  {
   "cell_type": "code",
   "execution_count": null,
   "id": "206004f6-d6fe-40d7-8e5a-302b32b02ad9",
   "metadata": {},
   "outputs": [],
   "source": [
    "from keras.preprocessing.text import one_hot\n",
    "\n",
    "texts = [\n",
    "    'This is an example sentence.',\n",
    "    'Another sentence for demonstration purposes.',\n",
    "    'Yet another sentence to encode.'\n",
    "]\n",
    "\n",
    "vocab_size = 40\n",
    "\n",
    "encoded_texts = [one_hot(text, vocab_size) for text in texts]\n",
    "\n",
    "for text, encoded_text in zip(texts, encoded_texts):\n",
    "    print('Text:', text)\n",
    "    print('Encoded:', encoded_text)"
   ]
  },
  {
   "cell_type": "code",
   "execution_count": null,
   "id": "a309a33b-5067-465e-b887-eb9d1f4642cb",
   "metadata": {},
   "outputs": [],
   "source": [
    "voc_size = 50000   \n",
    "from keras.preprocessing.text import one_hot\n",
    "\n",
    "text = df['comb']\n",
    "one_hot_result = [one_hot(words, voc_size) for words in text]"
   ]
  },
  {
   "cell_type": "code",
   "execution_count": null,
   "id": "eb6e935e-97d5-402d-b8be-d922cd0fcfdd",
   "metadata": {},
   "outputs": [],
   "source": [
    "from tensorflow.keras.preprocessing.sequence import pad_sequences\n",
    "\n",
    "max_len = 500\n",
    "X = pad_sequences(one_hot_result, padding='post', maxlen=max_len)"
   ]
  },
  {
   "cell_type": "code",
   "execution_count": null,
   "id": "842095f3-c38e-4553-a841-90f370096f6d",
   "metadata": {},
   "outputs": [],
   "source": [
    "from keras.models import Sequential\n",
    "from keras.layers import Input,Embedding\n",
    "from keras.layers import Bidirectional, LSTM\n",
    "from keras.layers import Dense, Dropout\n",
    "\n",
    "model=Sequential()\n",
    "model.add(Input(shape=max_len))\n",
    "model.add(Embedding(input_dim = voc_size, output_dim = 50, input_length = max_len))\n",
    "model.add(Bidirectional(LSTM(100))) \n",
    "model.add(Dropout(0.1))\n",
    "model.add(Dense(1, activation='sigmoid'))"
   ]
  },
  {
   "cell_type": "code",
   "execution_count": null,
   "id": "587efa2b-1e69-467e-a451-4dc8ab63ecba",
   "metadata": {},
   "outputs": [],
   "source": [
    "model.compile(loss='binary_crossentropy', optimizer='adam', metrics=['accuracy'])"
   ]
  },
  {
   "cell_type": "code",
   "execution_count": null,
   "id": "d47c85bb-1ad2-4c3c-9620-8a7f68f7a329",
   "metadata": {},
   "outputs": [],
   "source": [
    "from sklearn.model_selection import train_test_split\n",
    "\n",
    "X_train, x_valid, y_train, y_valid = train_test_split(X, y, random_state=0)"
   ]
  },
  {
   "cell_type": "code",
   "execution_count": null,
   "id": "95a104f6-2840-4947-bfe9-e1248306b925",
   "metadata": {},
   "outputs": [],
   "source": [
    "history = model.fit(X_train, y_train, validation_data=(x_valid,y_valid), epochs=20, batch_size=124)"
   ]
  },
  {
   "cell_type": "code",
   "execution_count": null,
   "id": "03445a15-4925-4c9b-8ede-c5f801067fb7",
   "metadata": {},
   "outputs": [],
   "source": [
    "import matplotlib.pyplot as plt\n",
    "\n",
    "fig, ax = plt.subplots(figsize = (10, 4))\n",
    "ax.plot(history.history['accuracy'], label = 'train accuracy')\n",
    "ax.plot(history.history['val_accuracy'], label = 'val accuracy')\n",
    "\n",
    "ax.set_title('Model Accuracy')\n",
    "ax.set_xlabel('Epoch')\n",
    "ax.set_ylabel('Accuracy')\n",
    "ax.legend(loc = 'upper left')\n",
    "plt.show()"
   ]
  },
  {
   "cell_type": "code",
   "execution_count": null,
   "id": "bf970253-4c9f-436a-b181-19a01e673d2f",
   "metadata": {},
   "outputs": [],
   "source": [
    "model.save('fake_news_model.keras')"
   ]
  },
  {
   "cell_type": "code",
   "execution_count": null,
   "id": "55a28e19-741d-4a82-92dd-bf21d3331fa0",
   "metadata": {},
   "outputs": [],
   "source": [
    "title=\"House Dem Aide: We Didn’t Even See Comey’s Letter Until Jason Chaffetz Tweeted It\"\n",
    "author=\"Darrell Lucus\"\n",
    "text='''\n",
    "House Dem Aide: We Didn’t Even See Comey’s Letter Until Jason Chaffetz Tweeted It By Darrell Lucus on October 30, 2016 Subscribe Jason Chaffetz on the stump in American Fork, Utah ( image courtesy Michael Jolley, available under a Creative Commons-BY license) \n",
    "With apologies to Keith Olbermann, there is no doubt who the Worst Person in The World is this week–FBI Director James Comey. But according to a House Democratic aide, it looks like we also know who the second-worst person is as well. It turns out that when Comey sent his now-infamous letter announcing that the FBI was looking into emails that may be related to Hillary Clinton’s email server, the ranking Democrats on the relevant committees didn’t hear about it from Comey. They found out via a tweet from one of the Republican committee chairmen. \n",
    "As we now know, Comey notified the Republican chairmen and Democratic ranking members of the House Intelligence, Judiciary, and Oversight committees that his agency was reviewing emails it had recently discovered in order to see if they contained classified information. Not long after this letter went out, Oversight Committee Chairman Jason Chaffetz set the political world ablaze with this tweet. FBI Dir just informed me, \"\"The FBI has learned of the existence of emails that appear to be pertinent to the investigation.\n",
    "'''"
   ]
  },
  {
   "cell_type": "code",
   "execution_count": null,
   "id": "08c1d087-7eaa-4992-b347-c9decacc0f49",
   "metadata": {},
   "outputs": [],
   "source": [
    "news = author + \" \" + title + \" \" + text\n",
    "\n",
    "news_clean = clean(news)\n",
    "news_onehot = one_hot(news_clean, voc_size) \n",
    "news_seq = pad_sequences([news_onehot],padding='post',maxlen=max_len)"
   ]
  },
  {
   "cell_type": "code",
   "execution_count": null,
   "id": "7671a964-8073-434f-8411-ccbd0542cedb",
   "metadata": {},
   "outputs": [],
   "source": [
    "from keras.models import load_model\n",
    "\n",
    "model = load_model('fake_news_model.keras')\n",
    "\n",
    "prediction = model.predict([news_seq])\n",
    "\n",
    "if prediction[0] > 0.5:\n",
    "    print (\"Fake news !\")\n",
    "else:\n",
    "    print (\"Not fake news !\")"
   ]
  },
  {
   "cell_type": "code",
   "execution_count": null,
   "id": "56c4f37b-5620-45e5-8302-a5ae39518dd3",
   "metadata": {},
   "outputs": [],
   "source": []
  }
 ],
 "metadata": {
  "kernelspec": {
   "display_name": "Python [conda env:base] *",
   "language": "python",
   "name": "conda-base-py"
  },
  "language_info": {
   "codemirror_mode": {
    "name": "ipython",
    "version": 3
   },
   "file_extension": ".py",
   "mimetype": "text/x-python",
   "name": "python",
   "nbconvert_exporter": "python",
   "pygments_lexer": "ipython3",
   "version": "3.12.7"
  }
 },
 "nbformat": 4,
 "nbformat_minor": 5
}
